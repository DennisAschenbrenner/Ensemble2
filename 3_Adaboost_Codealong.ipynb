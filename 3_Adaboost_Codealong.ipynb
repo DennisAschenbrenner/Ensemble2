{
 "cells": [
  {
   "cell_type": "markdown",
   "metadata": {},
   "source": [
    "### PLEASE comment/document what each function is doing in your own words to demonstrate your understanding. Of course, push it up to your GitHub on completion."
   ]
  },
  {
   "cell_type": "code",
   "execution_count": 3,
   "metadata": {},
   "outputs": [],
   "source": [
    "# importing packages\n",
    "import pandas as pd\n",
    "import numpy as np\n",
    "from sklearn.tree import DecisionTreeClassifier\n",
    "from sklearn.model_selection import train_test_split\n",
    "from sklearn.datasets import make_hastie_10_2\n",
    "import matplotlib.pyplot as plt\n"
   ]
  },
  {
   "cell_type": "code",
   "execution_count": 10,
   "metadata": {},
   "outputs": [],
   "source": [
    "\"\"\" HELPER FUNCTION: GET ERROR RATE =========================================\"\"\"\n",
    "def get_error_rate(pred, Y):       # function for the error rate by summing not equal values between Y and Y_pred\n",
    "    return sum(pred != Y) / float(len(Y))   # and deviding by number of Y\n",
    "\n",
    "\"\"\" HELPER FUNCTION: PRINT ERROR RATE =======================================\"\"\"\n",
    "def print_error_rate(err):         # function for printing the error rate in special format\n",
    "    print ('Error rate: Training: %.4f - Test: %.4f' % err)\n",
    "\n",
    "\"\"\" HELPER FUNCTION: GENERIC CLASSIFIER =====================================\"\"\"\n",
    "def generic_clf(Y_train, X_train, Y_test, X_test, clf): # function generic classifier clf = choosen model\n",
    "    clf.fit(X_train,Y_train)      # fit the model on X and Y training sets\n",
    "    pred_train = clf.predict(X_train) # prediction on training data\n",
    "    pred_test = clf.predict(X_test)   # prediction on test data\n",
    "    # returning error rates for prediction and test data sets\n",
    "    return get_error_rate(pred_train, Y_train), \\\n",
    "           get_error_rate(pred_test, Y_test)"
   ]
  },
  {
   "cell_type": "code",
   "execution_count": 5,
   "metadata": {},
   "outputs": [],
   "source": [
    "\"\"\" ADABOOST IMPLEMENTATION =================================================\"\"\"\n",
    "def adaboost_clf(Y_train, X_train, Y_test, X_test, M, clf):   # adaboost classifier\n",
    "    n_train, n_test = len(X_train), len(X_test)               # write length of X_train and X_test in 2 vars\n",
    "    # Initialize weights\n",
    "    w = np.ones(n_train) / n_train                            # define weights depending on length of dataset\n",
    "    pred_train, pred_test = [np.zeros(n_train), np.zeros(n_test)] # create 2 lists with n zeros\n",
    "    \n",
    "    for i in range(M):        \n",
    "        # Fit a classifier with the specific weights\n",
    "        clf.fit(X_train, Y_train, sample_weight = w)     # fit your model (clf) on training data with sample weight\n",
    "        pred_train_i = clf.predict(X_train)              # predict on train data\n",
    "        pred_test_i = clf.predict(X_test)                # predict on test data\n",
    "        # Indicator function\n",
    "        miss = [int(x) for x in (pred_train_i != Y_train)]  # write out weighted predicted values that were not right \n",
    "                                                            # predicted as integer nto a new var 'miss'\n",
    "                                                       \n",
    "        # Equivalent with 1/-1 to update weights\n",
    "        miss2 = [x if x==1 else -1 for x in miss]        # replace weighted values with dummies 1 and -1 \n",
    "                                                         # 1 for right prediction and -1 for false\n",
    "        # Error\n",
    "        err_m = np.dot(w,miss) / sum(w)                  # matrix multiplication of weighted train data and \n",
    "                                                         # false predicted values devided by sum of weighted train data\n",
    "        # Alpha\n",
    "        alpha_m = 0.5 * np.log( (1 - err_m) / float(err_m)) # set alpha to grab low weighted training data\n",
    "        # New weights                                       # to do prediction with low weighted nodes (RF)\n",
    "        w = np.multiply(w, np.exp([float(x) * alpha_m for x in miss2])) # new weights \n",
    "        # Add to prediction\n",
    "        pred_train = [sum(x) for x in zip(pred_train,    # add them now to the other predicted data\n",
    "                                          [x * alpha_m for x in pred_train_i])]\n",
    "        pred_test = [sum(x) for x in zip(pred_test, \n",
    "                                         [x * alpha_m for x in pred_test_i])]\n",
    "    \n",
    "    pred_train, pred_test = np.sign(pred_train), np.sign(pred_test)  # sign of elements, like dummies 1 and -1\n",
    "    # Return error rate in train and test set by comparing 1s and -1s  (-1 = false prediction)\n",
    "    return get_error_rate(pred_train, Y_train), \\\n",
    "           get_error_rate(pred_test, Y_test)"
   ]
  },
  {
   "cell_type": "code",
   "execution_count": 6,
   "metadata": {},
   "outputs": [],
   "source": [
    "\n",
    "\"\"\" PLOT FUNCTION ===========================================================\"\"\"\n",
    "def plot_error_rate(er_train, er_test):   # function for plotting the error rate\n",
    "    df_error = pd.DataFrame([er_train, er_test]).T    # convert the input into a dataframe and transpose it\n",
    "    df_error.columns = ['Training', 'Test']           # give names to the 2 columns \n",
    "    plot1 = df_error.plot(linewidth = 3, figsize = (8,6),   # plot the train and test error in one figure\n",
    "            color = ['lightblue', 'darkblue'], grid = True) # set some plot properties\n",
    "    plot1.set_xlabel('Number of iterations', fontsize = 12)\n",
    "    plot1.set_xticklabels(range(0,450,50))\n",
    "    plot1.set_ylabel('Error rate', fontsize = 12)\n",
    "    plot1.set_title('Error rate vs number of iterations', fontsize = 16)\n",
    "    plt.axhline(y=er_test[0], linewidth=1, color = 'red', ls = 'dashed')  # Add a horizontal line across the axis\n",
    "\n",
    "\n",
    "\n"
   ]
  }
 ],
 "metadata": {
  "kernelspec": {
   "display_name": "Python 3",
   "language": "python",
   "name": "python3"
  },
  "language_info": {
   "codemirror_mode": {
    "name": "ipython",
    "version": 3
   },
   "file_extension": ".py",
   "mimetype": "text/x-python",
   "name": "python",
   "nbconvert_exporter": "python",
   "pygments_lexer": "ipython3",
   "version": "3.6.6"
  }
 },
 "nbformat": 4,
 "nbformat_minor": 2
}
